{
 "cells": [
  {
   "cell_type": "markdown",
   "id": "b07a4468-df04-48f2-b023-8db59306e040",
   "metadata": {},
   "source": [
    "#### Import Libraries\n",
    "Import the sys and os libraries to manipulate the system path and the functions file containing the functions used to open the connection and query the database table. "
   ]
  },
  {
   "cell_type": "code",
   "execution_count": null,
   "id": "18b3a2a6-b93a-44e9-acd8-63e15ef4991d",
   "metadata": {},
   "outputs": [],
   "source": [
    "import sys # Library for system-specific parameters and functions\n",
    "import os # Library for interacting with the operating system\n",
    "import pandas as pd\n",
    "\n",
    "file = 'functions.py'\n",
    "sys.path.insert(0,os.path.dirname(os.path.abspath(file)))\n",
    "import functions # Custom functions for database operations"
   ]
  },
  {
   "cell_type": "markdown",
   "id": "364d9302-7745-47f7-bd77-c148066c796e",
   "metadata": {},
   "source": [
    "#### Set up Database Connection\n",
    "Establish a connection to the PostgreSQL database using the **database_connection** function from the **functions** module. This function returns a connection object and a cursor object for executing SQL queries."
   ]
  },
  {
   "cell_type": "code",
   "execution_count": null,
   "id": "b3859f7b-18eb-45db-9345-d8b20d6f2c9e",
   "metadata": {
    "scrolled": true
   },
   "outputs": [],
   "source": [
    "# Enter the parameters from your database\n",
    "# Do not expose the database credentials\n",
    "\n",
    "host = 'host'\n",
    "dbname = 'database_name'\n",
    "user = 'user'\n",
    "\n",
    "# Establish a connection to the database\n",
    "connection, cursor = functions.database_connection(host = host, dbname = dbname, user = user)"
   ]
  },
  {
   "cell_type": "markdown",
   "id": "bf624732-49a4-4c08-9056-2baac5af3e67",
   "metadata": {},
   "source": [
    "#### Querying the main table\n",
    "Some SQL query examples to demonstrate querying the main table of the database for specific information."
   ]
  },
  {
   "cell_type": "code",
   "execution_count": null,
   "id": "248ebe4d-9c69-4a59-a2c8-65bac8dd3a4d",
   "metadata": {},
   "outputs": [],
   "source": [
    "# Example query 1:  Retrieve all records from the table main_table\n",
    "#query_string = \"\"\"SELECT * FROM main_table\"\"\"\n",
    "\n",
    "# Example query 2: Retrieve records where crop is Wheat\n",
    "query_string = \"\"\"SELECT * FROM main_table WHERE crop = 'Rice'\"\"\"\n",
    "\n",
    "# Example query 3: Retrieve records where crop is Wheat and measurement_method is Remote sensing\n",
    "# query_string = \"\"\"SELECT * FROM main_table WHERE crop = 'Wheat' AND measurement_method = 'Remote sensing'\"\"\"\n",
    "\n",
    "\n",
    "# Example query 4: Retrieve records where crop is Wheat and measurement_method is Direct measurement or Proximal sensing\n",
    "# query_string = \"\"\"SELECT * FROM main_table WHERE crop = 'Wheat' \n",
    "#                         AND measurement_method = 'Direct measurement' \n",
    "#                         OR measurement_method = 'Proximal sensing'\"\"\"\n",
    "\n",
    "# Example query 5: Retrieve records from columns variable_value and variable_units where crop is Wheat, treatment is Drought and season is Winter 2021-2022\n",
    "# query_string = \"\"\"SELECT variable_value, variable_units FROM main_table WHERE variable_name = 'Leaf SPAD-502 readings' \n",
    "#                         AND treatment =  'Drought'\n",
    "#                         AND season = 'Winter 2021-2022'\"\"\"\n",
    "# execute SQL query\n",
    "cursor.execute(query_string)\n",
    "\n",
    "# Fetch query results\n",
    "query_results = cursor.fetchall()\n",
    "\n",
    "# Create a DataFrame from query results\n",
    "colnames = [desc[0] for desc in cursor.description]\n",
    "data_frame = pd.DataFrame(data = query_results, columns = colnames)\n",
    "\n",
    "# Sumary of the results\n",
    "data_frame.info()"
   ]
  },
  {
   "cell_type": "markdown",
   "id": "41326d43-e4c1-42d0-9eaa-eb263fc87c9c",
   "metadata": {},
   "source": [
    "#### Querying the management table\n",
    "Defines a SQL query string to select columns and rows from the table named management_data that meet the specified condition."
   ]
  },
  {
   "cell_type": "code",
   "execution_count": null,
   "id": "157caec9-15f3-4da8-aa5c-a0ad3d282bf6",
   "metadata": {},
   "outputs": [],
   "source": [
    "# Example query 1:  Retrieve all records from the table management_data\n",
    "query_string = \"\"\"SELECT * FROM management_data\"\"\"\n",
    "\n",
    "# execute SQL query\n",
    "cursor.execute(query_string)\n",
    "\n",
    "# Fetch query results\n",
    "query_results = cursor.fetchall()\n",
    "\n",
    "# Create a DataFrame from query results\n",
    "colnames = [desc[0] for desc in cursor.description]\n",
    "data_frame_mgmt = pd.DataFrame(data = query_results, columns = colnames)\n",
    "\n",
    "# Sumary of the results\n",
    "data_frame_mgmt.info()"
   ]
  },
  {
   "cell_type": "markdown",
   "id": "3a98702f-915d-4bf8-867f-324fa277ab01",
   "metadata": {},
   "source": [
    "#### Close the database conection\n",
    "Close the cursor and the connection to the database to release resources."
   ]
  },
  {
   "cell_type": "code",
   "execution_count": null,
   "id": "f2d23e44-d836-40bc-b113-fdc57e267d8e",
   "metadata": {},
   "outputs": [],
   "source": [
    "cursor.close()\n",
    "connection.close()"
   ]
  },
  {
   "cell_type": "markdown",
   "id": "5e924526-f3c3-479b-9276-bfde4ae6eb72",
   "metadata": {},
   "source": [
    "#### Displaying dataframe\n",
    "Displays the fetched data stored in the `data_frame` object. Data are ready for visualization and analysis!"
   ]
  },
  {
   "cell_type": "code",
   "execution_count": null,
   "id": "2ffe30ba-2d5e-44be-abf3-3a7aabd4f0cd",
   "metadata": {},
   "outputs": [],
   "source": [
    "data_frame"
   ]
  },
  {
   "cell_type": "markdown",
   "id": "2668f69e-e363-40ea-8382-e33d8d5e8a07",
   "metadata": {},
   "source": [
    "#### Calculate Days After Seeding (DAS)\n",
    "Extract dates for selected events from the `data_frame_mgmt` table, compute the difference in days relative to dates in the `data_frame` table, and add this difference as a new column."
   ]
  },
  {
   "cell_type": "code",
   "execution_count": null,
   "id": "46d5478e-77d2-47a1-9712-202b4b03f0da",
   "metadata": {},
   "outputs": [],
   "source": [
    "# Define the name of the day's difference column \n",
    "event_name = 'DAS' \n",
    "\n",
    "# define the event or list of events from the data_frame_mgmt table that are going to be used for the date extraction\n",
    "selected_events = ['Seeds sown']\n",
    "\n",
    "data_frame['date'] = pd.to_datetime(data_frame['date'])\n",
    "data_frame_mgmt['date'] = pd.to_datetime(data_frame_mgmt['date'])\n",
    "\n",
    "# Define a function to find the appropriate date from data_frame_dates\n",
    "def find_matching_date(row):\n",
    "    matching_row = data_frame_mgmt[\n",
    "        (data_frame_mgmt['experiment'] == row['experiment']) &\n",
    "        (data_frame_mgmt['crop'] == row['crop']) &\n",
    "        (data_frame_mgmt['treatment'] == row['treatment']) &\n",
    "        (data_frame_mgmt['season'] == row['season']) &\n",
    "        (data_frame_mgmt['event'].isin(selected_events))\n",
    "    ]\n",
    "    return matching_row['date'].iloc[0] if not matching_row.empty else pd.NaT\n",
    "\n",
    "# Apply the function to each row in data_frame to find the matching date\n",
    "data_frame['matching_date'] = data_frame.apply(find_matching_date, axis=1)\n",
    "\n",
    "# Calculate the difference in days and add it as a new column EVENT\n",
    "data_frame[event_name] = (data_frame['date'] - data_frame['matching_date']).dt.days\n",
    "\n",
    "# Drop the 'matching_date' column as it's no longer needed\n",
    "data_frame.drop(columns=['matching_date'], inplace=True)"
   ]
  }
 ],
 "metadata": {
  "kernelspec": {
   "display_name": "Python 3 (ipykernel)",
   "language": "python",
   "name": "python3"
  },
  "language_info": {
   "codemirror_mode": {
    "name": "ipython",
    "version": 3
   },
   "file_extension": ".py",
   "mimetype": "text/x-python",
   "name": "python",
   "nbconvert_exporter": "python",
   "pygments_lexer": "ipython3",
   "version": "3.11.5"
  }
 },
 "nbformat": 4,
 "nbformat_minor": 5
}
